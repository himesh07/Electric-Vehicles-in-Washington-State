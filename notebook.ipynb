{
 "cells": [
  {
   "cell_type": "markdown",
   "id": "894d7e47-612b-43a2-aaed-fd5222563f4f",
   "metadata": {},
   "source": [
    "# Electric Vehicles in Washington State\n",
    "\n",
    "\n",
    "## Introduction\n",
    "\n",
    "The purpose of this notebook is to work with statistics on electrical vehicles (EVs) published in Washington State, using official records from the Department of Licensing of that state. The level of adoption of these vehicles is shown by county, as a proportion of EVs by 1,000 inhabitants, and that information is related to air quality measurements. This set of visualizations can help to:\n",
    "\n",
    "(a) Observed differences among counties related to the adoption of EVs (b) Elaborate questions on why those differences exist among counties (c) Promote public discussion about how incentives related to the transition to EVs should be address in Washington State\n",
    "\n",
    "Vehicles with internal combustion engines are among the main causes of greenhouse gas (GHG) emissions. EVs are seen as a promising alternative to reduce those emissions due to they don't produce CO2. Moreover, energy used to charge EVs can come from renewable sources, that can expand benefits for the environment.\n",
    "\n",
    "Governments and the private sector are promoting the adoption of EVs to accelerate a transition towards a more sustainable transportation system. Public policies adopted include purchase financial incentives, charging infrastructure investment, low or zero emission vehicle mandates, and research and development. Knowledge about how adoption of EVs is happening can contribute to address more effectively those policies and to promote more incentives.\n",
    "\n",
    "## Situation\n",
    "\n",
    "The State of Washington Department of Licensing keep records of EVs and publishes a full dataset about that. That office has available to the public three visualizations:\n",
    "\n",
    "* [Electric vehicle population by postal code](https://data.wa.gov/Demographics/Electric-Vehicle-Population-Map-by-Postal-Code/bhmw-igtj): It is a map of the United States that show markers over postal codes with the number of electric vehicles registered there. Most vehicles reported by this map are in Washington State, because records correspond to that state. This visualization includes controls to filter the data by county, city, maker, model, electric range, CAFV elegibility, type of vehicle, legislative district, postal code, and state.\n",
    "\n",
    "* [Electric vehicles by county](https://data.wa.gov/Demographics/Electric-Vehicles-By-County/smxa-ttv3): It is a bar chart that represents the number of electric vehicles register for every county in a selected state (the default option is Washington State). The visualization includes controls to filter the data by county, vehicle type, maker, model, and state.\n",
    "\n",
    "* [Top 10 electric vehicle models](https://data.wa.gov/Demographics/Top-10-Electric-Vehicle-Models/cki8-rxms): It is a pie chart that represents the number of vehicles for the 10 top categories. Numbers are expresed in absolute terms and models are differentiated by color. The visualization has controls to filter the data by type of vehicle, county, city, state, maker, legislative district, and model year.\n",
    "\n",
    "These visualizations are useful to have a first impression about the electric vehicles sample included in this dataset. However, they present limitations as:\n",
    "\n",
    "* While data by county and ZIP code helps to quantify EVs adoption in absolute terms, such condition is subject to the amount of population that every county has. Therefore, in addition to the absolute number of vehicles, it is useful to have a relationship between this data and the number of inhabitants.\n",
    "\n",
    "* On the other hand, since one of the main contributions expected from the adoption of EVs is the reduction of pollution and the emission of greenhouse gases, it is important to also have a notion about the air quality in each county. It would be expected that in those areas with poorer levels in terms of air quality, the promotion for the adoption of EVs would be more sustained.\n",
    "\n",
    "## Goal\n",
    "\n",
    "The goal of this project is:\n",
    "\n",
    "> To visualize differences among counties in Washington State related to the adoption of electrical vehicles (EVs) in relationship with the number of inhabitantes and the levels of air quality."
   ]
  },
  {
   "cell_type": "markdown",
   "id": "379a8b6c-998f-440f-a8e9-f202bd8c76e5",
   "metadata": {},
   "source": [
    "## Tasks\n",
    "\n",
    "Tasks implemented in this project were:\n",
    "\n",
    "1. Exploratory data analysis: the dataset is loaded and its main characteristics are identified\n",
    "2. Data transformations: data is aggregated by county and merged with population and air quality statistics\n",
    "3. Visualizations: Preliminary visualizations and the main one are prepared, with a summary of key elements used in the design\n",
    "4. Discussion: an evaluation with a panel of users and results\n",
    "5. Findings: A synthesis of the findings of this project"
   ]
  },
  {
   "cell_type": "code",
   "execution_count": 1,
   "id": "f8aaa09a-e976-40cb-883f-22202b84e5af",
   "metadata": {
    "tags": []
   },
   "outputs": [],
   "source": [
    "import pandas as pd\n",
    "import geopandas as gpd\n",
    "import matplotlib.pyplot as plt\n",
    "import altair as alt\n",
    "import vega_datasets"
   ]
  },
  {
   "cell_type": "markdown",
   "id": "f98c436e-12d8-4514-bcf7-1efd14f43145",
   "metadata": {},
   "source": [
    "## Dataset"
   ]
  },
  {
   "cell_type": "markdown",
   "id": "a2437ba9-5b97-4836-9016-276e4843b785",
   "metadata": {},
   "source": [
    "### Description\n",
    "\n",
    "The dataset used in this project is about Battery Electric Vehicles (BEVs) and Plug-in Hybrid Electric Vehicles (PHEVs). Records refer to vehicles registered by the State of Washington Department of Licensing. Data was downloaded from [Data.gov](https://catalog.data.gov/dataset/electric-vehicle-population-data) on Apr. 29, 2023, and it is used under the terms of the [Open Data Commons Open Database License (OBbL) v1.0](https://opendatacommons.org/licenses/odbl/1-0/)."
   ]
  },
  {
   "cell_type": "markdown",
   "id": "32ca9063-f17c-47b4-b581-8de1b8320147",
   "metadata": {},
   "source": [
    "### Attributes\n",
    "\n",
    "* VIN: Unique vehicle identification code\n",
    "* Country: County where the vehicle is registered\n",
    "* City: City where the vehicle is registered\n",
    "* State: State where the vehicle is registered\n",
    "* Postal Code: Postal code of the zone where the vehicle is registered\n",
    "* Model Year: Year of the vehicle's model\n",
    "* Make: Name of the maker\n",
    "* Model: Model name\n",
    "* Electric Vehicle Type: type of vehicle (BEV or PHEV)\n",
    "* Clean Alternative Fuel Vehicle (CAFV) Elegibility: Indication if the vehicle meets criteria to be elegible as Clean Alternative Fuel Vehicle\n",
    "* Electric Range: Voltage of operation\n",
    "* Base MSRP: Suggested price\n",
    "* Legislative District: District where the vehicle is registered\n",
    "* DOL Vehicle ID: Identification assigned by the Department of Licensing\n",
    "* Vehicle Location: geographical point where the vehicle is registered\n",
    "* Electric utility: Utility company the serves the area where the vehicle is registered\n",
    "* 2020 Census Tract: Census tract where the vehicle is registered"
   ]
  },
  {
   "cell_type": "markdown",
   "id": "3d94afa0-660b-45fe-b039-8838d0278d3a",
   "metadata": {},
   "source": [
    "### Loading the Dataset\n",
    "\n",
    "In this section the dataset is loaded into memory. Its main characteristics are explored."
   ]
  },
  {
   "cell_type": "code",
   "execution_count": 2,
   "id": "c3c44b13-e252-4476-a4b0-525fdfd2d381",
   "metadata": {},
   "outputs": [
    {
     "data": {
      "text/html": [
       "<div>\n",
       "<style scoped>\n",
       "    .dataframe tbody tr th:only-of-type {\n",
       "        vertical-align: middle;\n",
       "    }\n",
       "\n",
       "    .dataframe tbody tr th {\n",
       "        vertical-align: top;\n",
       "    }\n",
       "\n",
       "    .dataframe thead th {\n",
       "        text-align: right;\n",
       "    }\n",
       "</style>\n",
       "<table border=\"1\" class=\"dataframe\">\n",
       "  <thead>\n",
       "    <tr style=\"text-align: right;\">\n",
       "      <th></th>\n",
       "      <th>VIN (1-10)</th>\n",
       "      <th>County</th>\n",
       "      <th>City</th>\n",
       "      <th>State</th>\n",
       "      <th>Postal Code</th>\n",
       "      <th>Model Year</th>\n",
       "      <th>Make</th>\n",
       "      <th>Model</th>\n",
       "      <th>Electric Vehicle Type</th>\n",
       "      <th>Clean Alternative Fuel Vehicle (CAFV) Eligibility</th>\n",
       "      <th>Electric Range</th>\n",
       "      <th>Base MSRP</th>\n",
       "      <th>Legislative District</th>\n",
       "      <th>DOL Vehicle ID</th>\n",
       "      <th>Vehicle Location</th>\n",
       "      <th>Electric Utility</th>\n",
       "      <th>2020 Census Tract</th>\n",
       "    </tr>\n",
       "  </thead>\n",
       "  <tbody>\n",
       "    <tr>\n",
       "      <th>0</th>\n",
       "      <td>5YJ3E1EB4L</td>\n",
       "      <td>Yakima</td>\n",
       "      <td>Yakima</td>\n",
       "      <td>WA</td>\n",
       "      <td>98908.0</td>\n",
       "      <td>2020</td>\n",
       "      <td>TESLA</td>\n",
       "      <td>MODEL 3</td>\n",
       "      <td>Battery Electric Vehicle (BEV)</td>\n",
       "      <td>Clean Alternative Fuel Vehicle Eligible</td>\n",
       "      <td>322</td>\n",
       "      <td>0</td>\n",
       "      <td>14.0</td>\n",
       "      <td>127175366</td>\n",
       "      <td>POINT (-120.56916 46.58514)</td>\n",
       "      <td>PACIFICORP</td>\n",
       "      <td>5.307700e+10</td>\n",
       "    </tr>\n",
       "    <tr>\n",
       "      <th>1</th>\n",
       "      <td>5YJ3E1EA7K</td>\n",
       "      <td>San Diego</td>\n",
       "      <td>San Diego</td>\n",
       "      <td>CA</td>\n",
       "      <td>92101.0</td>\n",
       "      <td>2019</td>\n",
       "      <td>TESLA</td>\n",
       "      <td>MODEL 3</td>\n",
       "      <td>Battery Electric Vehicle (BEV)</td>\n",
       "      <td>Clean Alternative Fuel Vehicle Eligible</td>\n",
       "      <td>220</td>\n",
       "      <td>0</td>\n",
       "      <td>NaN</td>\n",
       "      <td>266614659</td>\n",
       "      <td>POINT (-117.16171 32.71568)</td>\n",
       "      <td>NaN</td>\n",
       "      <td>6.073005e+09</td>\n",
       "    </tr>\n",
       "    <tr>\n",
       "      <th>2</th>\n",
       "      <td>7JRBR0FL9M</td>\n",
       "      <td>Lane</td>\n",
       "      <td>Eugene</td>\n",
       "      <td>OR</td>\n",
       "      <td>97404.0</td>\n",
       "      <td>2021</td>\n",
       "      <td>VOLVO</td>\n",
       "      <td>S60</td>\n",
       "      <td>Plug-in Hybrid Electric Vehicle (PHEV)</td>\n",
       "      <td>Not eligible due to low battery range</td>\n",
       "      <td>22</td>\n",
       "      <td>0</td>\n",
       "      <td>NaN</td>\n",
       "      <td>144502018</td>\n",
       "      <td>POINT (-123.12802 44.09573)</td>\n",
       "      <td>NaN</td>\n",
       "      <td>4.103900e+10</td>\n",
       "    </tr>\n",
       "    <tr>\n",
       "      <th>3</th>\n",
       "      <td>5YJXCBE21K</td>\n",
       "      <td>Yakima</td>\n",
       "      <td>Yakima</td>\n",
       "      <td>WA</td>\n",
       "      <td>98908.0</td>\n",
       "      <td>2019</td>\n",
       "      <td>TESLA</td>\n",
       "      <td>MODEL X</td>\n",
       "      <td>Battery Electric Vehicle (BEV)</td>\n",
       "      <td>Clean Alternative Fuel Vehicle Eligible</td>\n",
       "      <td>289</td>\n",
       "      <td>0</td>\n",
       "      <td>14.0</td>\n",
       "      <td>477039944</td>\n",
       "      <td>POINT (-120.56916 46.58514)</td>\n",
       "      <td>PACIFICORP</td>\n",
       "      <td>5.307700e+10</td>\n",
       "    </tr>\n",
       "    <tr>\n",
       "      <th>4</th>\n",
       "      <td>5UXKT0C5XH</td>\n",
       "      <td>Snohomish</td>\n",
       "      <td>Bothell</td>\n",
       "      <td>WA</td>\n",
       "      <td>98021.0</td>\n",
       "      <td>2017</td>\n",
       "      <td>BMW</td>\n",
       "      <td>X5</td>\n",
       "      <td>Plug-in Hybrid Electric Vehicle (PHEV)</td>\n",
       "      <td>Not eligible due to low battery range</td>\n",
       "      <td>14</td>\n",
       "      <td>0</td>\n",
       "      <td>1.0</td>\n",
       "      <td>106314946</td>\n",
       "      <td>POINT (-122.18384 47.8031)</td>\n",
       "      <td>PUGET SOUND ENERGY INC</td>\n",
       "      <td>5.306105e+10</td>\n",
       "    </tr>\n",
       "  </tbody>\n",
       "</table>\n",
       "</div>"
      ],
      "text/plain": [
       "   VIN (1-10)     County       City State  Postal Code  Model Year   Make  \\\n",
       "0  5YJ3E1EB4L     Yakima     Yakima    WA      98908.0        2020  TESLA   \n",
       "1  5YJ3E1EA7K  San Diego  San Diego    CA      92101.0        2019  TESLA   \n",
       "2  7JRBR0FL9M       Lane     Eugene    OR      97404.0        2021  VOLVO   \n",
       "3  5YJXCBE21K     Yakima     Yakima    WA      98908.0        2019  TESLA   \n",
       "4  5UXKT0C5XH  Snohomish    Bothell    WA      98021.0        2017    BMW   \n",
       "\n",
       "     Model                   Electric Vehicle Type  \\\n",
       "0  MODEL 3          Battery Electric Vehicle (BEV)   \n",
       "1  MODEL 3          Battery Electric Vehicle (BEV)   \n",
       "2      S60  Plug-in Hybrid Electric Vehicle (PHEV)   \n",
       "3  MODEL X          Battery Electric Vehicle (BEV)   \n",
       "4       X5  Plug-in Hybrid Electric Vehicle (PHEV)   \n",
       "\n",
       "  Clean Alternative Fuel Vehicle (CAFV) Eligibility  Electric Range  \\\n",
       "0           Clean Alternative Fuel Vehicle Eligible             322   \n",
       "1           Clean Alternative Fuel Vehicle Eligible             220   \n",
       "2             Not eligible due to low battery range              22   \n",
       "3           Clean Alternative Fuel Vehicle Eligible             289   \n",
       "4             Not eligible due to low battery range              14   \n",
       "\n",
       "   Base MSRP  Legislative District  DOL Vehicle ID  \\\n",
       "0          0                  14.0       127175366   \n",
       "1          0                   NaN       266614659   \n",
       "2          0                   NaN       144502018   \n",
       "3          0                  14.0       477039944   \n",
       "4          0                   1.0       106314946   \n",
       "\n",
       "              Vehicle Location        Electric Utility  2020 Census Tract  \n",
       "0  POINT (-120.56916 46.58514)              PACIFICORP       5.307700e+10  \n",
       "1  POINT (-117.16171 32.71568)                     NaN       6.073005e+09  \n",
       "2  POINT (-123.12802 44.09573)                     NaN       4.103900e+10  \n",
       "3  POINT (-120.56916 46.58514)              PACIFICORP       5.307700e+10  \n",
       "4   POINT (-122.18384 47.8031)  PUGET SOUND ENERGY INC       5.306105e+10  "
      ]
     },
     "execution_count": 2,
     "metadata": {},
     "output_type": "execute_result"
    }
   ],
   "source": [
    "data = pd.read_csv(\"Electric_Vehicle_Population_Data.csv\")\n",
    "data.head()"
   ]
  },
  {
   "cell_type": "code",
   "execution_count": 3,
   "id": "55cd4a19-ad4a-40c9-9d74-498f142e7ac3",
   "metadata": {
    "tags": []
   },
   "outputs": [
    {
     "name": "stdout",
     "output_type": "stream",
     "text": [
      "Number of attributes:  17\n",
      "Number of examples:  124716\n"
     ]
    }
   ],
   "source": [
    "# Counting the number of examples and attributes\n",
    "examples, attributes = data.shape\n",
    "print(\"Number of attributes: \", attributes)\n",
    "print(\"Number of examples: \", examples)"
   ]
  },
  {
   "cell_type": "code",
   "execution_count": 4,
   "id": "6d60f391-462f-4416-abbf-a1bbfde32cee",
   "metadata": {
    "tags": []
   },
   "outputs": [
    {
     "name": "stdout",
     "output_type": "stream",
     "text": [
      "<class 'pandas.core.frame.DataFrame'>\n",
      "RangeIndex: 124716 entries, 0 to 124715\n",
      "Data columns (total 17 columns):\n",
      " #   Column                                             Non-Null Count   Dtype  \n",
      "---  ------                                             --------------   -----  \n",
      " 0   VIN (1-10)                                         124716 non-null  object \n",
      " 1   County                                             124714 non-null  object \n",
      " 2   City                                               124714 non-null  object \n",
      " 3   State                                              124716 non-null  object \n",
      " 4   Postal Code                                        124714 non-null  float64\n",
      " 5   Model Year                                         124716 non-null  int64  \n",
      " 6   Make                                               124716 non-null  object \n",
      " 7   Model                                              124535 non-null  object \n",
      " 8   Electric Vehicle Type                              124716 non-null  object \n",
      " 9   Clean Alternative Fuel Vehicle (CAFV) Eligibility  124716 non-null  object \n",
      " 10  Electric Range                                     124716 non-null  int64  \n",
      " 11  Base MSRP                                          124716 non-null  int64  \n",
      " 12  Legislative District                               124419 non-null  float64\n",
      " 13  DOL Vehicle ID                                     124716 non-null  int64  \n",
      " 14  Vehicle Location                                   124687 non-null  object \n",
      " 15  Electric Utility                                   124243 non-null  object \n",
      " 16  2020 Census Tract                                  124714 non-null  float64\n",
      "dtypes: float64(3), int64(4), object(10)\n",
      "memory usage: 16.2+ MB\n"
     ]
    }
   ],
   "source": [
    "# Showing the columns, data type, and number of data points\n",
    "data.info()"
   ]
  },
  {
   "cell_type": "code",
   "execution_count": 5,
   "id": "741b8281-1853-4103-892c-5303be9b43d9",
   "metadata": {
    "tags": []
   },
   "outputs": [
    {
     "data": {
      "text/plain": [
       "VIN (1-10)                                             0\n",
       "County                                                 2\n",
       "City                                                   2\n",
       "State                                                  0\n",
       "Postal Code                                            2\n",
       "Model Year                                             0\n",
       "Make                                                   0\n",
       "Model                                                181\n",
       "Electric Vehicle Type                                  0\n",
       "Clean Alternative Fuel Vehicle (CAFV) Eligibility      0\n",
       "Electric Range                                         0\n",
       "Base MSRP                                              0\n",
       "Legislative District                                 297\n",
       "DOL Vehicle ID                                         0\n",
       "Vehicle Location                                      29\n",
       "Electric Utility                                     473\n",
       "2020 Census Tract                                      2\n",
       "dtype: int64"
      ]
     },
     "execution_count": 5,
     "metadata": {},
     "output_type": "execute_result"
    }
   ],
   "source": [
    "# Counting missed dat\n",
    "data.isna().sum()"
   ]
  },
  {
   "cell_type": "code",
   "execution_count": 6,
   "id": "68c2259a-13c0-4ccd-ba04-37aa568de1ce",
   "metadata": {
    "tags": []
   },
   "outputs": [
    {
     "data": {
      "text/plain": [
       "0"
      ]
     },
     "execution_count": 6,
     "metadata": {},
     "output_type": "execute_result"
    }
   ],
   "source": [
    "# Looking for duplicated records\n",
    "data.duplicated().sum()"
   ]
  },
  {
   "cell_type": "markdown",
   "id": "2429f99e-f8fc-414b-9193-2195a0732b7a",
   "metadata": {},
   "source": [
    "### General Characteristics\n",
    "\n",
    "* The dataset contains 124,716 examples with 17 attributes.\n",
    "* Most attributes are categorical, except some like `Electric Range` and `Base MSRP`\n",
    "* There are missed data for `Electric Utility`, `Legislative District`, `Model`, `Vehicle Location`, and `2020 Census Tract`, but that omited points are not significative due they are under 1%.\n",
    "* There are not duplicated examples."
   ]
  },
  {
   "cell_type": "markdown",
   "id": "e1a65aa6-71c3-45b4-8617-07988e18ace9",
   "metadata": {},
   "source": [
    "### Adjusment of Types\n",
    "\n",
    "It was observed that for some attributes the data type is wrong. In this section the data type is adjusted in a way to represent in a better manner the data representation."
   ]
  },
  {
   "cell_type": "code",
   "execution_count": 7,
   "id": "009737e7-eb64-4658-88db-e5f049e77922",
   "metadata": {
    "tags": []
   },
   "outputs": [],
   "source": [
    "cols_to_fix_type = [\n",
    "    'Postal Code',\n",
    "    'Legislative District',\n",
    "    'DOL Vehicle ID',\n",
    "    '2020 Census Tract'\n",
    "]\n",
    "for column in cols_to_fix_type:\n",
    "    data[column] = data[column].astype(str)"
   ]
  },
  {
   "cell_type": "markdown",
   "id": "94bd9e40-0503-4e07-8728-732198058c01",
   "metadata": {},
   "source": [
    "### Complementary Datasets\n",
    "\n",
    "To do relationships between the number of electrical vehicles by county, two more datasets are used, one related to population and the other one about air quality.\n",
    "\n",
    "* [Population estimates for Washington State](https://ofm.wa.gov/washington-data-research/population-demographics/population-estimates/historical-estimates-april-1-population-and-housing-state-counties-and-cities), provided by Washington State Office of Financial Management.\n",
    "* [Air Quality Index](https://enviwa.ecology.wa.gov/Report/LatestAQI), obtained from Washington's Air Monitoring Program."
   ]
  },
  {
   "cell_type": "markdown",
   "id": "5e779c01-1a95-4a13-b084-1aac55f8c7c5",
   "metadata": {},
   "source": [
    "## Exploratory Data Analysis\n",
    "\n",
    "The purpose of this section is to gain a deeper knowledge about the dataset, exploring the data represented by every attribute."
   ]
  },
  {
   "cell_type": "markdown",
   "id": "c8426a9f-33d3-4302-bdf5-5b54dc8e3127",
   "metadata": {},
   "source": [
    "### Categorical Attributes"
   ]
  },
  {
   "cell_type": "code",
   "execution_count": 8,
   "id": "549c5448-453c-4776-989e-b5f783124d96",
   "metadata": {
    "tags": []
   },
   "outputs": [
    {
     "data": {
      "text/plain": [
       "['VIN (1-10)',\n",
       " 'County',\n",
       " 'City',\n",
       " 'State',\n",
       " 'Postal Code',\n",
       " 'Make',\n",
       " 'Model',\n",
       " 'Electric Vehicle Type',\n",
       " 'Clean Alternative Fuel Vehicle (CAFV) Eligibility',\n",
       " 'Legislative District',\n",
       " 'DOL Vehicle ID',\n",
       " 'Vehicle Location',\n",
       " 'Electric Utility',\n",
       " '2020 Census Tract']"
      ]
     },
     "execution_count": 8,
     "metadata": {},
     "output_type": "execute_result"
    }
   ],
   "source": [
    "# Categorical attributes\n",
    "attr_cat = [column for column in data.columns if data[column].dtype == 'O']\n",
    "attr_cat"
   ]
  },
  {
   "cell_type": "code",
   "execution_count": 9,
   "id": "cff997dc-de67-40c5-b4f0-772c3fafd68f",
   "metadata": {
    "tags": []
   },
   "outputs": [
    {
     "name": "stdout",
     "output_type": "stream",
     "text": [
      "##### VIN (1-10) (%) ##### \n",
      "\n",
      "5YJYGDEE9M    0.371243\n",
      "5YJYGDEE0M    0.368838\n",
      "5YJYGDEE7M    0.363225\n",
      "5YJYGDEE8M    0.352802\n",
      "5YJYGDEE2M    0.345585\n",
      "5YJYGDEEXM    0.340774\n",
      "7SAYGDEEXN    0.339972\n",
      "5YJYGDEE3M    0.336765\n",
      "5YJYGDEE6M    0.335963\n",
      "7SAYGDEE8N    0.334360\n",
      "Name: VIN (1-10), dtype: float64\n",
      "\n",
      "##### County (%) ##### \n",
      "\n",
      "King         52.334141\n",
      "Snohomish    11.274596\n",
      "Pierce        7.647898\n",
      "Clark         5.936783\n",
      "Thurston      3.646744\n",
      "Kitsap        3.326010\n",
      "Whatcom       2.486489\n",
      "Spokane       2.469651\n",
      "Benton        1.257277\n",
      "Skagit        1.127379\n",
      "Name: County, dtype: float64\n",
      "\n",
      "##### City (%) ##### \n",
      "\n",
      "Seattle      17.647578\n",
      "Bellevue      5.203105\n",
      "Redmond       3.725324\n",
      "Vancouver     3.579390\n",
      "Kirkland      3.145597\n",
      "Bothell       3.088667\n",
      "Sammamish     2.929102\n",
      "Renton        2.497715\n",
      "Olympia       2.438379\n",
      "Tacoma        2.128871\n",
      "Name: City, dtype: float64\n",
      "\n",
      "##### State (%) ##### \n",
      "\n",
      "WA    99.761859\n",
      "CA     0.064146\n",
      "VA     0.028866\n",
      "MD     0.021649\n",
      "TX     0.014433\n",
      "CO     0.008018\n",
      "NC     0.007216\n",
      "AZ     0.006415\n",
      "GA     0.005613\n",
      "CT     0.005613\n",
      "Name: State, dtype: float64\n",
      "\n",
      "##### Postal Code (%) ##### \n",
      "\n",
      "98052.0    2.603515\n",
      "98033.0    1.790468\n",
      "98012.0    1.732737\n",
      "98004.0    1.715899\n",
      "98006.0    1.642933\n",
      "98115.0    1.616473\n",
      "98072.0    1.470541\n",
      "98040.0    1.464928\n",
      "98074.0    1.436865\n",
      "98034.0    1.390359\n",
      "Name: Postal Code, dtype: float64\n",
      "\n",
      "##### Make (%) ##### \n",
      "\n",
      "TESLA         45.803265\n",
      "NISSAN        10.380384\n",
      "CHEVROLET      8.688540\n",
      "FORD           5.356169\n",
      "BMW            4.472562\n",
      "KIA            3.883223\n",
      "TOYOTA         3.741300\n",
      "VOLKSWAGEN     2.701337\n",
      "VOLVO          2.018987\n",
      "AUDI           1.992527\n",
      "Name: Make, dtype: float64\n",
      "\n",
      "##### Model (%) ##### \n",
      "\n",
      "MODEL 3        19.600112\n",
      "MODEL Y        16.600153\n",
      "LEAF           10.377805\n",
      "MODEL S         5.897940\n",
      "BOLT EV         4.005300\n",
      "VOLT            3.925001\n",
      "MODEL X         3.731481\n",
      "PRIUS PRIME     1.955274\n",
      "ID.4            1.870157\n",
      "NIRO            1.842855\n",
      "Name: Model, dtype: float64\n",
      "\n",
      "##### Electric Vehicle Type (%) ##### \n",
      "\n",
      "Battery Electric Vehicle (BEV)            77.188172\n",
      "Plug-in Hybrid Electric Vehicle (PHEV)    22.811828\n",
      "Name: Electric Vehicle Type, dtype: float64\n",
      "\n",
      "##### Clean Alternative Fuel Vehicle (CAFV) Eligibility (%) ##### \n",
      "\n",
      "Clean Alternative Fuel Vehicle Eligible                         47.575291\n",
      "Eligibility unknown as battery range has not been researched    39.838513\n",
      "Not eligible due to low battery range                           12.586196\n",
      "Name: Clean Alternative Fuel Vehicle (CAFV) Eligibility, dtype: float64\n",
      "\n",
      "##### Legislative District (%) ##### \n",
      "\n",
      "41.0    6.748132\n",
      "45.0    6.281472\n",
      "48.0    5.699349\n",
      "36.0    4.499824\n",
      "1.0     4.285737\n",
      "5.0     4.191924\n",
      "46.0    4.078867\n",
      "43.0    4.010712\n",
      "37.0    3.109465\n",
      "34.0    3.006030\n",
      "Name: Legislative District, dtype: float64\n",
      "\n",
      "##### DOL Vehicle ID (%) ##### \n",
      "\n",
      "127175366    0.000802\n",
      "226023633    0.000802\n",
      "219159188    0.000802\n",
      "156833512    0.000802\n",
      "235673287    0.000802\n",
      "212371106    0.000802\n",
      "145592240    0.000802\n",
      "474750909    0.000802\n",
      "205687954    0.000802\n",
      "217048436    0.000802\n",
      "Name: DOL Vehicle ID, dtype: float64\n",
      "\n",
      "##### Vehicle Location (%) ##### \n",
      "\n",
      "POINT (-122.13158 47.67858)    2.604121\n",
      "POINT (-122.2066 47.67887)     1.790884\n",
      "POINT (-122.21061 47.83448)    1.733140\n",
      "POINT (-122.1872 47.61001)     1.716298\n",
      "POINT (-122.12096 47.55584)    1.643315\n",
      "POINT (-122.31765 47.70013)    1.616849\n",
      "POINT (-122.15545 47.75448)    1.470883\n",
      "POINT (-122.21238 47.57816)    1.465269\n",
      "POINT (-122.02054 47.60326)    1.437199\n",
      "POINT (-122.22901 47.72201)    1.390682\n",
      "Name: Vehicle Location, dtype: float64\n",
      "\n",
      "##### Electric Utility (%) ##### \n",
      "\n",
      "PUGET SOUND ENERGY INC||CITY OF TACOMA - (WA)                                      36.215320\n",
      "PUGET SOUND ENERGY INC                                                             19.859469\n",
      "CITY OF SEATTLE - (WA)|CITY OF TACOMA - (WA)                                       18.767254\n",
      "BONNEVILLE POWER ADMINISTRATION||PUD NO 1 OF CLARK COUNTY - (WA)                    5.818436\n",
      "BONNEVILLE POWER ADMINISTRATION||CITY OF TACOMA - (WA)||PENINSULA LIGHT COMPANY     4.514540\n",
      "PUGET SOUND ENERGY INC||PUD NO 1 OF WHATCOM COUNTY                                  2.349428\n",
      "BONNEVILLE POWER ADMINISTRATION||AVISTA CORP||INLAND POWER & LIGHT COMPANY          1.485798\n",
      "BONNEVILLE POWER ADMINISTRATION||PUD 1 OF SNOHOMISH COUNTY                          0.904679\n",
      "PACIFICORP                                                                          0.754972\n",
      "BONNEVILLE POWER ADMINISTRATION||PUD NO 1 OF BENTON COUNTY                          0.730826\n",
      "Name: Electric Utility, dtype: float64\n",
      "\n",
      "##### 2020 Census Tract (%) ##### \n",
      "\n",
      "53033028500.0    0.571699\n",
      "53033032321.0    0.485904\n",
      "53033024500.0    0.350396\n",
      "53033024100.0    0.347991\n",
      "53033007800.0    0.347189\n",
      "53033032318.0    0.337567\n",
      "53033005600.0    0.334360\n",
      "53033032220.0    0.334360\n",
      "53033025006.0    0.327143\n",
      "53033009300.0    0.326341\n",
      "Name: 2020 Census Tract, dtype: float64\n",
      "\n"
     ]
    }
   ],
   "source": [
    "# The first ten categories are shown\n",
    "for attr in attr_cat:\n",
    "    print(f\"##### {attr} (%) #####\", '\\n')\n",
    "    counts = data[attr].value_counts()\n",
    "    counts = counts / counts.sum() * 100\n",
    "    n_items = len(counts)\n",
    "    n_items = n_items if n_items <= 10 else 10\n",
    "    print(counts[:n_items])\n",
    "    print()"
   ]
  },
  {
   "cell_type": "markdown",
   "id": "595c8bce-940d-48f2-89fd-80f9098f3037",
   "metadata": {},
   "source": [
    "### Numerical Attributes"
   ]
  },
  {
   "cell_type": "code",
   "execution_count": 10,
   "id": "9bec6487-b906-4ffa-9afb-050002d5f8cc",
   "metadata": {
    "tags": []
   },
   "outputs": [
    {
     "data": {
      "text/html": [
       "<div>\n",
       "<style scoped>\n",
       "    .dataframe tbody tr th:only-of-type {\n",
       "        vertical-align: middle;\n",
       "    }\n",
       "\n",
       "    .dataframe tbody tr th {\n",
       "        vertical-align: top;\n",
       "    }\n",
       "\n",
       "    .dataframe thead th {\n",
       "        text-align: right;\n",
       "    }\n",
       "</style>\n",
       "<table border=\"1\" class=\"dataframe\">\n",
       "  <thead>\n",
       "    <tr style=\"text-align: right;\">\n",
       "      <th></th>\n",
       "      <th>count</th>\n",
       "      <th>mean</th>\n",
       "      <th>std</th>\n",
       "      <th>min</th>\n",
       "      <th>25%</th>\n",
       "      <th>50%</th>\n",
       "      <th>75%</th>\n",
       "      <th>max</th>\n",
       "    </tr>\n",
       "  </thead>\n",
       "  <tbody>\n",
       "    <tr>\n",
       "      <th>Model Year</th>\n",
       "      <td>124716.0</td>\n",
       "      <td>2019.406339</td>\n",
       "      <td>2.976174</td>\n",
       "      <td>1997.0</td>\n",
       "      <td>2018.0</td>\n",
       "      <td>2020.0</td>\n",
       "      <td>2022.0</td>\n",
       "      <td>2023.0</td>\n",
       "    </tr>\n",
       "    <tr>\n",
       "      <th>Electric Range</th>\n",
       "      <td>124716.0</td>\n",
       "      <td>79.471936</td>\n",
       "      <td>100.331969</td>\n",
       "      <td>0.0</td>\n",
       "      <td>0.0</td>\n",
       "      <td>25.0</td>\n",
       "      <td>200.0</td>\n",
       "      <td>337.0</td>\n",
       "    </tr>\n",
       "    <tr>\n",
       "      <th>Base MSRP</th>\n",
       "      <td>124716.0</td>\n",
       "      <td>1556.068909</td>\n",
       "      <td>10053.289929</td>\n",
       "      <td>0.0</td>\n",
       "      <td>0.0</td>\n",
       "      <td>0.0</td>\n",
       "      <td>0.0</td>\n",
       "      <td>845000.0</td>\n",
       "    </tr>\n",
       "  </tbody>\n",
       "</table>\n",
       "</div>"
      ],
      "text/plain": [
       "                   count         mean           std     min     25%     50%  \\\n",
       "Model Year      124716.0  2019.406339      2.976174  1997.0  2018.0  2020.0   \n",
       "Electric Range  124716.0    79.471936    100.331969     0.0     0.0    25.0   \n",
       "Base MSRP       124716.0  1556.068909  10053.289929     0.0     0.0     0.0   \n",
       "\n",
       "                   75%       max  \n",
       "Model Year      2022.0    2023.0  \n",
       "Electric Range   200.0     337.0  \n",
       "Base MSRP          0.0  845000.0  "
      ]
     },
     "execution_count": 10,
     "metadata": {},
     "output_type": "execute_result"
    }
   ],
   "source": [
    "data.describe().T"
   ]
  },
  {
   "cell_type": "markdown",
   "id": "249d8a00-9663-4504-8220-49f9de1f8aa6",
   "metadata": {},
   "source": [
    "### Detailed Characteristics\n",
    "\n",
    "From the previous sections here is commented what are the most important charectistics observed when the dataset is explored by attribute.\n",
    "\n",
    "* `VIN (1-10)` and `DOL Vehicle ID` are identification attributes, unique for every example. Therefore they are not relevant for an aggregated analysis.\n",
    "* Most vehicles registered correspond to Washington State (99.76%). Vehicles from other states are under-represented. This makes senses due the office responsible to mantain the records is an statal branch.\n",
    "* It has been confirmed that only BEVs and PHEVs vehicles are contained in the dataset; 77.2% are BEVs.\n",
    "* Most vehicles are served by Puget Sound Energy and City of Seattle/Tacome utility companies (over 70%).\n",
    "* Model years are from 1997 to 2023. At least 75% are from 2018.\n",
    "* Although not missed values were reported for `Base MSRP`, it is noted that most values are zero. That can be an indicative that for most examples that value is not available."
   ]
  },
  {
   "cell_type": "markdown",
   "id": "3c179ba8-6556-4a01-baff-55bdd8885198",
   "metadata": {},
   "source": [
    "### Adjusting the Dataset\n",
    "\n",
    "From the previous observations, it was noticed that `VIN (1-10)` and `DOL Vehicle ID` attributes are not relevant for aggregated analysis. In consequence, they will be dropped from the dataset.\n",
    "\n",
    "Besides that, given that information for other states is not representative, those examples will be removed. In that way, the dataset will only reflect examples of Washington State."
   ]
  },
  {
   "cell_type": "code",
   "execution_count": 11,
   "id": "c06c30d4-91db-4778-b4cc-72ddaba2cb95",
   "metadata": {
    "tags": []
   },
   "outputs": [],
   "source": [
    "data.drop(columns=['VIN (1-10)', 'DOL Vehicle ID'], inplace=True)\n",
    "data = data[data['State'] == 'WA']"
   ]
  },
  {
   "cell_type": "markdown",
   "id": "cfe8a8bd-353f-48eb-95a4-5c7783755a67",
   "metadata": {},
   "source": [
    "## Data Transformations\n",
    "\n",
    "In order have data available for the visualizations above indicated, it needed to load complementary datasets and perform aggregations by county."
   ]
  },
  {
   "cell_type": "markdown",
   "id": "d9651f40-42d1-4d2d-9537-e3e6b53b1250",
   "metadata": {},
   "source": [
    "### EVs and Population"
   ]
  },
  {
   "cell_type": "code",
   "execution_count": 12,
   "id": "295e7262-cd89-44c4-a5da-46bdceaf2a8a",
   "metadata": {
    "tags": []
   },
   "outputs": [
    {
     "data": {
      "text/html": [
       "<div>\n",
       "<style scoped>\n",
       "    .dataframe tbody tr th:only-of-type {\n",
       "        vertical-align: middle;\n",
       "    }\n",
       "\n",
       "    .dataframe tbody tr th {\n",
       "        vertical-align: top;\n",
       "    }\n",
       "\n",
       "    .dataframe thead th {\n",
       "        text-align: right;\n",
       "    }\n",
       "</style>\n",
       "<table border=\"1\" class=\"dataframe\">\n",
       "  <thead>\n",
       "    <tr style=\"text-align: right;\">\n",
       "      <th></th>\n",
       "      <th>City</th>\n",
       "      <th>County</th>\n",
       "      <th>Population 2022</th>\n",
       "    </tr>\n",
       "  </thead>\n",
       "  <tbody>\n",
       "    <tr>\n",
       "      <th>0</th>\n",
       "      <td>Aberdeen</td>\n",
       "      <td>Grays Harbor</td>\n",
       "      <td>17040</td>\n",
       "    </tr>\n",
       "    <tr>\n",
       "      <th>1</th>\n",
       "      <td>Airway Heights</td>\n",
       "      <td>Spokane</td>\n",
       "      <td>11040</td>\n",
       "    </tr>\n",
       "    <tr>\n",
       "      <th>2</th>\n",
       "      <td>Albion</td>\n",
       "      <td>Whitman</td>\n",
       "      <td>545</td>\n",
       "    </tr>\n",
       "    <tr>\n",
       "      <th>3</th>\n",
       "      <td>Algona</td>\n",
       "      <td>King</td>\n",
       "      <td>3300</td>\n",
       "    </tr>\n",
       "    <tr>\n",
       "      <th>4</th>\n",
       "      <td>Almira</td>\n",
       "      <td>Lincoln</td>\n",
       "      <td>320</td>\n",
       "    </tr>\n",
       "  </tbody>\n",
       "</table>\n",
       "</div>"
      ],
      "text/plain": [
       "             City        County  Population 2022\n",
       "0        Aberdeen  Grays Harbor            17040\n",
       "1  Airway Heights       Spokane            11040\n",
       "2          Albion       Whitman              545\n",
       "3          Algona          King             3300\n",
       "4          Almira       Lincoln              320"
      ]
     },
     "execution_count": 12,
     "metadata": {},
     "output_type": "execute_result"
    }
   ],
   "source": [
    "# Loading population data\n",
    "\n",
    "# Reading Excel file\n",
    "population = pd.read_excel('popden_city.xlsx', sheet_name='City_Town', skiprows=5)\n",
    "# Selecting relevant attributes\n",
    "population = population[[\"City/Town Name\", \"County Name\", \"Population 2022\"]]\n",
    "# Renaming columns\n",
    "population.rename(columns={\n",
    "    \"City/Town Name\": \"City\",\n",
    "    \"County Name\": \"County\",\n",
    "}, inplace=True)\n",
    "population.head()"
   ]
  },
  {
   "cell_type": "code",
   "execution_count": 13,
   "id": "afde538d-c5b9-4323-8d74-06816099192d",
   "metadata": {
    "tags": []
   },
   "outputs": [
    {
     "data": {
      "text/html": [
       "<div>\n",
       "<style scoped>\n",
       "    .dataframe tbody tr th:only-of-type {\n",
       "        vertical-align: middle;\n",
       "    }\n",
       "\n",
       "    .dataframe tbody tr th {\n",
       "        vertical-align: top;\n",
       "    }\n",
       "\n",
       "    .dataframe thead th {\n",
       "        text-align: right;\n",
       "    }\n",
       "</style>\n",
       "<table border=\"1\" class=\"dataframe\">\n",
       "  <thead>\n",
       "    <tr style=\"text-align: right;\">\n",
       "      <th></th>\n",
       "      <th>County</th>\n",
       "      <th>Population 2022</th>\n",
       "      <th>Electrical Vehicles</th>\n",
       "      <th>EV_Pop_1K</th>\n",
       "    </tr>\n",
       "  </thead>\n",
       "  <tbody>\n",
       "    <tr>\n",
       "      <th>31</th>\n",
       "      <td>San Juan</td>\n",
       "      <td>2680</td>\n",
       "      <td>764.0</td>\n",
       "      <td>285.0</td>\n",
       "    </tr>\n",
       "    <tr>\n",
       "      <th>38</th>\n",
       "      <td>Wahkiakum</td>\n",
       "      <td>560</td>\n",
       "      <td>44.0</td>\n",
       "      <td>79.0</td>\n",
       "    </tr>\n",
       "    <tr>\n",
       "      <th>17</th>\n",
       "      <td>Jefferson</td>\n",
       "      <td>10290</td>\n",
       "      <td>763.0</td>\n",
       "      <td>74.0</td>\n",
       "    </tr>\n",
       "    <tr>\n",
       "      <th>26</th>\n",
       "      <td>Mason</td>\n",
       "      <td>10430</td>\n",
       "      <td>595.0</td>\n",
       "      <td>57.0</td>\n",
       "    </tr>\n",
       "    <tr>\n",
       "      <th>33</th>\n",
       "      <td>Skamania</td>\n",
       "      <td>2525</td>\n",
       "      <td>141.0</td>\n",
       "      <td>56.0</td>\n",
       "    </tr>\n",
       "  </tbody>\n",
       "</table>\n",
       "</div>"
      ],
      "text/plain": [
       "       County  Population 2022  Electrical Vehicles  EV_Pop_1K\n",
       "31   San Juan             2680                764.0      285.0\n",
       "38  Wahkiakum              560                 44.0       79.0\n",
       "17  Jefferson            10290                763.0       74.0\n",
       "26      Mason            10430                595.0       57.0\n",
       "33   Skamania             2525                141.0       56.0"
      ]
     },
     "execution_count": 13,
     "metadata": {},
     "output_type": "execute_result"
    }
   ],
   "source": [
    "# Grouping data by county and merging dataset\n",
    "\n",
    "# Grouping data by county\n",
    "by_county = data.groupby([\"County\"]).count()['State'].reset_index()\n",
    "# Renaming columns\n",
    "by_county.rename(columns={'State': 'Electrical Vehicles'}, inplace=True)\n",
    "# Grouping population by county\n",
    "pop = population.groupby('County').sum(numeric_only=True).reset_index()\n",
    "# Merging with population data\n",
    "ev_pop = pop.merge(by_county, on=[\"County\"], how=\"left\")\n",
    "# Computing EV / population index\n",
    "ev_pop[\"EV_Pop_1K\"] = ev_pop[\"Electrical Vehicles\"] / ev_pop[\"Population 2022\"] * 1000\n",
    "ev_pop = ev_pop.sort_values(by=\"EV_Pop_1K\", ascending=False).dropna().round()\n",
    "ev_pop.head()"
   ]
  },
  {
   "cell_type": "markdown",
   "id": "5ae8fd27-70b2-4e0a-9edd-f60798c61123",
   "metadata": {},
   "source": [
    "### EVs and Air Quality"
   ]
  },
  {
   "cell_type": "code",
   "execution_count": 14,
   "id": "0c3b1d36-b85d-4074-9eab-5c417ce363e3",
   "metadata": {
    "tags": []
   },
   "outputs": [
    {
     "data": {
      "text/html": [
       "<div>\n",
       "<style scoped>\n",
       "    .dataframe tbody tr th:only-of-type {\n",
       "        vertical-align: middle;\n",
       "    }\n",
       "\n",
       "    .dataframe tbody tr th {\n",
       "        vertical-align: top;\n",
       "    }\n",
       "\n",
       "    .dataframe thead th {\n",
       "        text-align: right;\n",
       "    }\n",
       "</style>\n",
       "<table border=\"1\" class=\"dataframe\">\n",
       "  <thead>\n",
       "    <tr style=\"text-align: right;\">\n",
       "      <th></th>\n",
       "      <th>County</th>\n",
       "      <th>Site</th>\n",
       "      <th>AQI Level</th>\n",
       "      <th>Pollutant</th>\n",
       "      <th>Occured</th>\n",
       "      <th>AQI</th>\n",
       "    </tr>\n",
       "  </thead>\n",
       "  <tbody>\n",
       "    <tr>\n",
       "      <th>0</th>\n",
       "      <td>Adams</td>\n",
       "      <td>Ritzville-Alder St</td>\n",
       "      <td>Good</td>\n",
       "      <td>PM2.5</td>\n",
       "      <td>4/29/2023 05:00 PM</td>\n",
       "      <td>18</td>\n",
       "    </tr>\n",
       "    <tr>\n",
       "      <th>1</th>\n",
       "      <td>Asotin</td>\n",
       "      <td>Clarkston-13th St</td>\n",
       "      <td>Good</td>\n",
       "      <td>PM2.5</td>\n",
       "      <td>4/29/2023 05:00 PM</td>\n",
       "      <td>25</td>\n",
       "    </tr>\n",
       "    <tr>\n",
       "      <th>2</th>\n",
       "      <td>Benton</td>\n",
       "      <td>Kennewick-Metaline</td>\n",
       "      <td>Good</td>\n",
       "      <td>PM10</td>\n",
       "      <td>4/29/2023 05:00 PM</td>\n",
       "      <td>32</td>\n",
       "    </tr>\n",
       "    <tr>\n",
       "      <th>3</th>\n",
       "      <td>Benton</td>\n",
       "      <td>Kennewick-S Clodfelter Rd</td>\n",
       "      <td>Moderate</td>\n",
       "      <td>O3</td>\n",
       "      <td>4/29/2023 05:00 PM</td>\n",
       "      <td>71</td>\n",
       "    </tr>\n",
       "    <tr>\n",
       "      <th>4</th>\n",
       "      <td>Benton</td>\n",
       "      <td>Prosser-Highland Dr</td>\n",
       "      <td>Good</td>\n",
       "      <td>PM2.5</td>\n",
       "      <td>4/29/2023 05:00 PM</td>\n",
       "      <td>33</td>\n",
       "    </tr>\n",
       "  </tbody>\n",
       "</table>\n",
       "</div>"
      ],
      "text/plain": [
       "   County                       Site AQI Level Pollutant             Occured  \\\n",
       "0   Adams         Ritzville-Alder St      Good     PM2.5  4/29/2023 05:00 PM   \n",
       "1  Asotin          Clarkston-13th St      Good     PM2.5  4/29/2023 05:00 PM   \n",
       "2  Benton         Kennewick-Metaline      Good      PM10  4/29/2023 05:00 PM   \n",
       "3  Benton  Kennewick-S Clodfelter Rd  Moderate        O3  4/29/2023 05:00 PM   \n",
       "4  Benton        Prosser-Highland Dr      Good     PM2.5  4/29/2023 05:00 PM   \n",
       "\n",
       "   AQI  \n",
       "0   18  \n",
       "1   25  \n",
       "2   32  \n",
       "3   71  \n",
       "4   33  "
      ]
     },
     "execution_count": 14,
     "metadata": {},
     "output_type": "execute_result"
    }
   ],
   "source": [
    "# Loading air quality data\n",
    "\n",
    "aqi = pd.read_excel(\"AQI Current Hour Summary.xlsx\", sheet_name=\"Sheet1\", skiprows=2)\n",
    "aqi.head()"
   ]
  },
  {
   "cell_type": "code",
   "execution_count": 15,
   "id": "352f2aa8-0140-428d-864a-cb89f507f8e3",
   "metadata": {
    "tags": []
   },
   "outputs": [
    {
     "data": {
      "text/html": [
       "<div>\n",
       "<style scoped>\n",
       "    .dataframe tbody tr th:only-of-type {\n",
       "        vertical-align: middle;\n",
       "    }\n",
       "\n",
       "    .dataframe tbody tr th {\n",
       "        vertical-align: top;\n",
       "    }\n",
       "\n",
       "    .dataframe thead th {\n",
       "        text-align: right;\n",
       "    }\n",
       "</style>\n",
       "<table border=\"1\" class=\"dataframe\">\n",
       "  <thead>\n",
       "    <tr style=\"text-align: right;\">\n",
       "      <th></th>\n",
       "      <th>County</th>\n",
       "      <th>AQI</th>\n",
       "    </tr>\n",
       "  </thead>\n",
       "  <tbody>\n",
       "    <tr>\n",
       "      <th>0</th>\n",
       "      <td>Adams</td>\n",
       "      <td>18.0</td>\n",
       "    </tr>\n",
       "    <tr>\n",
       "      <th>1</th>\n",
       "      <td>Asotin</td>\n",
       "      <td>25.0</td>\n",
       "    </tr>\n",
       "    <tr>\n",
       "      <th>2</th>\n",
       "      <td>Benton</td>\n",
       "      <td>33.0</td>\n",
       "    </tr>\n",
       "    <tr>\n",
       "      <th>3</th>\n",
       "      <td>Chelan</td>\n",
       "      <td>21.5</td>\n",
       "    </tr>\n",
       "    <tr>\n",
       "      <th>4</th>\n",
       "      <td>Clallam</td>\n",
       "      <td>28.0</td>\n",
       "    </tr>\n",
       "  </tbody>\n",
       "</table>\n",
       "</div>"
      ],
      "text/plain": [
       "    County   AQI\n",
       "0    Adams  18.0\n",
       "1   Asotin  25.0\n",
       "2   Benton  33.0\n",
       "3   Chelan  21.5\n",
       "4  Clallam  28.0"
      ]
     },
     "execution_count": 15,
     "metadata": {},
     "output_type": "execute_result"
    }
   ],
   "source": [
    "# Grouping air quality data by county\n",
    "# Whether there more that one mearuments by county, the median is taken\n",
    "aqi_by_county = aqi.groupby('County').median(numeric_only=True)['AQI']\n",
    "aqi_by_county = pd.DataFrame(aqi_by_county).reset_index()\n",
    "aqi_by_county.head()"
   ]
  },
  {
   "cell_type": "code",
   "execution_count": 16,
   "id": "a1122c1d-b0cc-4286-86f2-26c98b3a6e23",
   "metadata": {
    "tags": []
   },
   "outputs": [
    {
     "data": {
      "text/html": [
       "<div>\n",
       "<style scoped>\n",
       "    .dataframe tbody tr th:only-of-type {\n",
       "        vertical-align: middle;\n",
       "    }\n",
       "\n",
       "    .dataframe tbody tr th {\n",
       "        vertical-align: top;\n",
       "    }\n",
       "\n",
       "    .dataframe thead th {\n",
       "        text-align: right;\n",
       "    }\n",
       "</style>\n",
       "<table border=\"1\" class=\"dataframe\">\n",
       "  <thead>\n",
       "    <tr style=\"text-align: right;\">\n",
       "      <th></th>\n",
       "      <th>County</th>\n",
       "      <th>AQI</th>\n",
       "      <th>Electrical Vehicles</th>\n",
       "      <th>Label</th>\n",
       "    </tr>\n",
       "  </thead>\n",
       "  <tbody>\n",
       "    <tr>\n",
       "      <th>0</th>\n",
       "      <td>Adams</td>\n",
       "      <td>18.0</td>\n",
       "      <td>35</td>\n",
       "      <td>Good</td>\n",
       "    </tr>\n",
       "    <tr>\n",
       "      <th>1</th>\n",
       "      <td>Asotin</td>\n",
       "      <td>25.0</td>\n",
       "      <td>52</td>\n",
       "      <td>Good</td>\n",
       "    </tr>\n",
       "    <tr>\n",
       "      <th>2</th>\n",
       "      <td>Benton</td>\n",
       "      <td>33.0</td>\n",
       "      <td>1567</td>\n",
       "      <td>Good</td>\n",
       "    </tr>\n",
       "    <tr>\n",
       "      <th>3</th>\n",
       "      <td>Chelan</td>\n",
       "      <td>21.5</td>\n",
       "      <td>732</td>\n",
       "      <td>Good</td>\n",
       "    </tr>\n",
       "    <tr>\n",
       "      <th>4</th>\n",
       "      <td>Clallam</td>\n",
       "      <td>28.0</td>\n",
       "      <td>779</td>\n",
       "      <td>Good</td>\n",
       "    </tr>\n",
       "  </tbody>\n",
       "</table>\n",
       "</div>"
      ],
      "text/plain": [
       "    County   AQI  Electrical Vehicles Label\n",
       "0    Adams  18.0                   35  Good\n",
       "1   Asotin  25.0                   52  Good\n",
       "2   Benton  33.0                 1567  Good\n",
       "3   Chelan  21.5                  732  Good\n",
       "4  Clallam  28.0                  779  Good"
      ]
     },
     "execution_count": 16,
     "metadata": {},
     "output_type": "execute_result"
    }
   ],
   "source": [
    "# Merging data with air quality indices\n",
    "ev_aqi = aqi_by_county.merge(by_county, on=\"County\", how=\"left\")\n",
    "# Including qualitative descriptor\n",
    "ev_aqi['Label'] = ev_aqi['AQI'].apply(lambda v: \n",
    "    'Good' if v <=50 else\n",
    "    'Moderated' if v <= 100 else\n",
    "    'Unhealty' if v <= 300 else\n",
    "    'Hazardous')\n",
    "ev_aqi.head()"
   ]
  },
  {
   "cell_type": "code",
   "execution_count": 17,
   "id": "49604598-eee0-48a8-99e8-d4bb4933242f",
   "metadata": {
    "tags": []
   },
   "outputs": [
    {
     "data": {
      "text/plain": [
       "array(['Good'], dtype=object)"
      ]
     },
     "execution_count": 17,
     "metadata": {},
     "output_type": "execute_result"
    }
   ],
   "source": [
    "ev_aqi.Label.unique()"
   ]
  },
  {
   "cell_type": "markdown",
   "id": "da5b1391-51b5-451f-a400-959f999b413a",
   "metadata": {},
   "source": [
    "In all Washington state counties air quality is good, so the describite attribute will not be used."
   ]
  },
  {
   "cell_type": "markdown",
   "id": "55922412-01c0-4547-8a99-831939aa6d7e",
   "metadata": {},
   "source": [
    "## Visualizations\n",
    "\n",
    "In this section, visualizations are presented. Preliminary displays are presented on the relationship between number of EVs and population by one side, and the other between number of EVs and air quality. After that, a unique visualization is integrated in line with the goal of this project."
   ]
  },
  {
   "cell_type": "markdown",
   "id": "73c07d0b-09b9-45c2-85c1-6bd2f3ce8fdb",
   "metadata": {},
   "source": [
    "### EV by 1,000 Inhabitants"
   ]
  },
  {
   "cell_type": "code",
   "execution_count": 24,
   "id": "653c86b1-89fd-43eb-9bae-4763d4412f53",
   "metadata": {
    "tags": []
   },
   "outputs": [
    {
     "data": {
      "text/html": [
       "\n",
       "<div id=\"altair-viz-0bd90cc7452e4c938b0c2c30896f7349\"></div>\n",
       "<script type=\"text/javascript\">\n",
       "  var VEGA_DEBUG = (typeof VEGA_DEBUG == \"undefined\") ? {} : VEGA_DEBUG;\n",
       "  (function(spec, embedOpt){\n",
       "    let outputDiv = document.currentScript.previousElementSibling;\n",
       "    if (outputDiv.id !== \"altair-viz-0bd90cc7452e4c938b0c2c30896f7349\") {\n",
       "      outputDiv = document.getElementById(\"altair-viz-0bd90cc7452e4c938b0c2c30896f7349\");\n",
       "    }\n",
       "    const paths = {\n",
       "      \"vega\": \"https://cdn.jsdelivr.net/npm//vega@5?noext\",\n",
       "      \"vega-lib\": \"https://cdn.jsdelivr.net/npm//vega-lib?noext\",\n",
       "      \"vega-lite\": \"https://cdn.jsdelivr.net/npm//vega-lite@4.17.0?noext\",\n",
       "      \"vega-embed\": \"https://cdn.jsdelivr.net/npm//vega-embed@6?noext\",\n",
       "    };\n",
       "\n",
       "    function maybeLoadScript(lib, version) {\n",
       "      var key = `${lib.replace(\"-\", \"\")}_version`;\n",
       "      return (VEGA_DEBUG[key] == version) ?\n",
       "        Promise.resolve(paths[lib]) :\n",
       "        new Promise(function(resolve, reject) {\n",
       "          var s = document.createElement('script');\n",
       "          document.getElementsByTagName(\"head\")[0].appendChild(s);\n",
       "          s.async = true;\n",
       "          s.onload = () => {\n",
       "            VEGA_DEBUG[key] = version;\n",
       "            return resolve(paths[lib]);\n",
       "          };\n",
       "          s.onerror = () => reject(`Error loading script: ${paths[lib]}`);\n",
       "          s.src = paths[lib];\n",
       "        });\n",
       "    }\n",
       "\n",
       "    function showError(err) {\n",
       "      outputDiv.innerHTML = `<div class=\"error\" style=\"color:red;\">${err}</div>`;\n",
       "      throw err;\n",
       "    }\n",
       "\n",
       "    function displayChart(vegaEmbed) {\n",
       "      vegaEmbed(outputDiv, spec, embedOpt)\n",
       "        .catch(err => showError(`Javascript Error: ${err.message}<br>This usually means there's a typo in your chart specification. See the javascript console for the full traceback.`));\n",
       "    }\n",
       "\n",
       "    if(typeof define === \"function\" && define.amd) {\n",
       "      requirejs.config({paths});\n",
       "      require([\"vega-embed\"], displayChart, err => showError(`Error loading script: ${err.message}`));\n",
       "    } else {\n",
       "      maybeLoadScript(\"vega\", \"5\")\n",
       "        .then(() => maybeLoadScript(\"vega-lite\", \"4.17.0\"))\n",
       "        .then(() => maybeLoadScript(\"vega-embed\", \"6\"))\n",
       "        .catch(showError)\n",
       "        .then(() => displayChart(vegaEmbed));\n",
       "    }\n",
       "  })({\"config\": {\"view\": {\"continuousWidth\": 400, \"continuousHeight\": 300}}, \"data\": {\"name\": \"data-cfde521b4114fd69d5881da4fef3809b\"}, \"mark\": {\"type\": \"bar\", \"tooltip\": true}, \"encoding\": {\"x\": {\"field\": \"County\", \"sort\": \"-y\", \"type\": \"nominal\"}, \"y\": {\"field\": \"EV_Pop_1K\", \"title\": \"EV by 1,000 inhabitants\", \"type\": \"quantitative\"}}, \"title\": \"Electrical Vehicles by 1,000 Inhabitants\", \"$schema\": \"https://vega.github.io/schema/vega-lite/v4.17.0.json\", \"datasets\": {\"data-cfde521b4114fd69d5881da4fef3809b\": [{\"County\": \"San Juan\", \"Population 2022\": 2680, \"Electrical Vehicles\": 764.0, \"EV_Pop_1K\": 285.0}, {\"County\": \"Wahkiakum\", \"Population 2022\": 560, \"Electrical Vehicles\": 44.0, \"EV_Pop_1K\": 79.0}, {\"County\": \"Jefferson\", \"Population 2022\": 10290, \"Electrical Vehicles\": 763.0, \"EV_Pop_1K\": 74.0}, {\"County\": \"Mason\", \"Population 2022\": 10430, \"Electrical Vehicles\": 595.0, \"EV_Pop_1K\": 57.0}, {\"County\": \"Skamania\", \"Population 2022\": 2525, \"Electrical Vehicles\": 141.0, \"EV_Pop_1K\": 56.0}, {\"County\": \"Island\", \"Population 2022\": 27880, \"Electrical Vehicles\": 1402.0, \"EV_Pop_1K\": 50.0}, {\"County\": \"Kitsap\", \"Population 2022\": 98860, \"Electrical Vehicles\": 4148.0, \"EV_Pop_1K\": 42.0}, {\"County\": \"King\", \"Population 2022\": 1939870, \"Electrical Vehicles\": 65268.0, \"EV_Pop_1K\": 34.0}, {\"County\": \"Snohomish\", \"Population 2022\": 455655, \"Electrical Vehicles\": 14061.0, \"EV_Pop_1K\": 31.0}, {\"County\": \"Klickitat\", \"Population 2022\": 6745, \"Electrical Vehicles\": 196.0, \"EV_Pop_1K\": 29.0}, {\"County\": \"Thurston\", \"Population 2022\": 156740, \"Electrical Vehicles\": 4548.0, \"EV_Pop_1K\": 29.0}, {\"County\": \"Clark\", \"Population 2022\": 283165, \"Electrical Vehicles\": 7398.0, \"EV_Pop_1K\": 26.0}, {\"County\": \"Clallam\", \"Population 2022\": 31775, \"Electrical Vehicles\": 779.0, \"EV_Pop_1K\": 25.0}, {\"County\": \"Ferry\", \"Population 2022\": 1000, \"Electrical Vehicles\": 23.0, \"EV_Pop_1K\": 23.0}, {\"County\": \"Whatcom\", \"Population 2022\": 138520, \"Electrical Vehicles\": 3101.0, \"EV_Pop_1K\": 22.0}, {\"County\": \"Pacific\", \"Population 2022\": 7640, \"Electrical Vehicles\": 157.0, \"EV_Pop_1K\": 21.0}, {\"County\": \"Pierce\", \"Population 2022\": 479435, \"Electrical Vehicles\": 9538.0, \"EV_Pop_1K\": 20.0}, {\"County\": \"Skagit\", \"Population 2022\": 78280, \"Electrical Vehicles\": 1406.0, \"EV_Pop_1K\": 18.0}, {\"County\": \"Kittitas\", \"Population 2022\": 26155, \"Electrical Vehicles\": 431.0, \"EV_Pop_1K\": 16.0}, {\"County\": \"Stevens\", \"Population 2022\": 9878, \"Electrical Vehicles\": 160.0, \"EV_Pop_1K\": 16.0}, {\"County\": \"Chelan\", \"Population 2022\": 47190, \"Electrical Vehicles\": 732.0, \"EV_Pop_1K\": 16.0}, {\"County\": \"Lewis\", \"Population 2022\": 33215, \"Electrical Vehicles\": 473.0, \"EV_Pop_1K\": 14.0}, {\"County\": \"Pend Oreille\", \"Population 2022\": 3145, \"Electrical Vehicles\": 40.0, \"EV_Pop_1K\": 13.0}, {\"County\": \"Douglas\", \"Population 2022\": 19210, \"Electrical Vehicles\": 236.0, \"EV_Pop_1K\": 12.0}, {\"County\": \"Cowlitz\", \"Population 2022\": 56010, \"Electrical Vehicles\": 619.0, \"EV_Pop_1K\": 11.0}, {\"County\": \"Okanogan\", \"Population 2022\": 15365, \"Electrical Vehicles\": 168.0, \"EV_Pop_1K\": 11.0}, {\"County\": \"Grays Harbor\", \"Population 2022\": 47275, \"Electrical Vehicles\": 450.0, \"EV_Pop_1K\": 10.0}, {\"County\": \"Benton\", \"Population 2022\": 174855, \"Electrical Vehicles\": 1567.0, \"EV_Pop_1K\": 9.0}, {\"County\": \"Spokane\", \"Population 2022\": 387985, \"Electrical Vehicles\": 3080.0, \"EV_Pop_1K\": 8.0}, {\"County\": \"Walla Walla\", \"Population 2022\": 45425, \"Electrical Vehicles\": 330.0, \"EV_Pop_1K\": 7.0}, {\"County\": \"Grant\", \"Population 2022\": 55940, \"Electrical Vehicles\": 362.0, \"EV_Pop_1K\": 6.0}, {\"County\": \"Asotin\", \"Population 2022\": 8435, \"Electrical Vehicles\": 52.0, \"EV_Pop_1K\": 6.0}, {\"County\": \"Lincoln\", \"Population 2022\": 5610, \"Electrical Vehicles\": 33.0, \"EV_Pop_1K\": 6.0}, {\"County\": \"Columbia\", \"Population 2022\": 2565, \"Electrical Vehicles\": 13.0, \"EV_Pop_1K\": 5.0}, {\"County\": \"Whitman\", \"Population 2022\": 41880, \"Electrical Vehicles\": 209.0, \"EV_Pop_1K\": 5.0}, {\"County\": \"Franklin\", \"Population 2022\": 85555, \"Electrical Vehicles\": 406.0, \"EV_Pop_1K\": 5.0}, {\"County\": \"Yakima\", \"Population 2022\": 170995, \"Electrical Vehicles\": 687.0, \"EV_Pop_1K\": 4.0}, {\"County\": \"Adams\", \"Population 2022\": 11525, \"Electrical Vehicles\": 35.0, \"EV_Pop_1K\": 3.0}, {\"County\": \"Garfield\", \"Population 2022\": 1395, \"Electrical Vehicles\": 4.0, \"EV_Pop_1K\": 3.0}]}}, {\"mode\": \"vega-lite\"});\n",
       "</script>"
      ],
      "text/plain": [
       "alt.Chart(...)"
      ]
     },
     "execution_count": 24,
     "metadata": {},
     "output_type": "execute_result"
    }
   ],
   "source": [
    "pop_chart = (alt.Chart(ev_pop, title=\"Electrical Vehicles by 1,000 Inhabitants\")\n",
    "    .mark_bar(\n",
    "        tooltip=True,\n",
    "    )\n",
    "    .encode(\n",
    "        alt.X('County:N', sort=\"-y\"),\n",
    "        alt.Y('EV_Pop_1K:Q', title=\"EV by 1,000 inhabitants\")\n",
    "    ))\n",
    "\n",
    "pop_chart"
   ]
  },
  {
   "cell_type": "markdown",
   "id": "1356f92b-8d19-47f1-b3ca-18c72dcce283",
   "metadata": {},
   "source": [
    "### EV vs Air Quality"
   ]
  },
  {
   "cell_type": "code",
   "execution_count": 22,
   "id": "23341911-6220-4c05-b718-4a67e299647c",
   "metadata": {
    "tags": []
   },
   "outputs": [
    {
     "data": {
      "text/html": [
       "\n",
       "<div id=\"altair-viz-5cad3a02bb844556a1d8d00dab48e463\"></div>\n",
       "<script type=\"text/javascript\">\n",
       "  var VEGA_DEBUG = (typeof VEGA_DEBUG == \"undefined\") ? {} : VEGA_DEBUG;\n",
       "  (function(spec, embedOpt){\n",
       "    let outputDiv = document.currentScript.previousElementSibling;\n",
       "    if (outputDiv.id !== \"altair-viz-5cad3a02bb844556a1d8d00dab48e463\") {\n",
       "      outputDiv = document.getElementById(\"altair-viz-5cad3a02bb844556a1d8d00dab48e463\");\n",
       "    }\n",
       "    const paths = {\n",
       "      \"vega\": \"https://cdn.jsdelivr.net/npm//vega@5?noext\",\n",
       "      \"vega-lib\": \"https://cdn.jsdelivr.net/npm//vega-lib?noext\",\n",
       "      \"vega-lite\": \"https://cdn.jsdelivr.net/npm//vega-lite@4.17.0?noext\",\n",
       "      \"vega-embed\": \"https://cdn.jsdelivr.net/npm//vega-embed@6?noext\",\n",
       "    };\n",
       "\n",
       "    function maybeLoadScript(lib, version) {\n",
       "      var key = `${lib.replace(\"-\", \"\")}_version`;\n",
       "      return (VEGA_DEBUG[key] == version) ?\n",
       "        Promise.resolve(paths[lib]) :\n",
       "        new Promise(function(resolve, reject) {\n",
       "          var s = document.createElement('script');\n",
       "          document.getElementsByTagName(\"head\")[0].appendChild(s);\n",
       "          s.async = true;\n",
       "          s.onload = () => {\n",
       "            VEGA_DEBUG[key] = version;\n",
       "            return resolve(paths[lib]);\n",
       "          };\n",
       "          s.onerror = () => reject(`Error loading script: ${paths[lib]}`);\n",
       "          s.src = paths[lib];\n",
       "        });\n",
       "    }\n",
       "\n",
       "    function showError(err) {\n",
       "      outputDiv.innerHTML = `<div class=\"error\" style=\"color:red;\">${err}</div>`;\n",
       "      throw err;\n",
       "    }\n",
       "\n",
       "    function displayChart(vegaEmbed) {\n",
       "      vegaEmbed(outputDiv, spec, embedOpt)\n",
       "        .catch(err => showError(`Javascript Error: ${err.message}<br>This usually means there's a typo in your chart specification. See the javascript console for the full traceback.`));\n",
       "    }\n",
       "\n",
       "    if(typeof define === \"function\" && define.amd) {\n",
       "      requirejs.config({paths});\n",
       "      require([\"vega-embed\"], displayChart, err => showError(`Error loading script: ${err.message}`));\n",
       "    } else {\n",
       "      maybeLoadScript(\"vega\", \"5\")\n",
       "        .then(() => maybeLoadScript(\"vega-lite\", \"4.17.0\"))\n",
       "        .then(() => maybeLoadScript(\"vega-embed\", \"6\"))\n",
       "        .catch(showError)\n",
       "        .then(() => displayChart(vegaEmbed));\n",
       "    }\n",
       "  })({\"config\": {\"view\": {\"continuousWidth\": 400, \"continuousHeight\": 300}}, \"data\": {\"name\": \"data-bf634b6ac5c9d29651ffab19ce35c57e\"}, \"mark\": \"point\", \"encoding\": {\"color\": {\"field\": \"County\", \"legend\": null, \"scale\": {\"scheme\": \"spectral\"}, \"type\": \"nominal\"}, \"tooltip\": {\"field\": \"County\", \"type\": \"nominal\"}, \"x\": {\"field\": \"Electrical Vehicles\", \"scale\": {\"type\": \"log\"}, \"title\": \"Number of EVs\", \"type\": \"quantitative\"}, \"y\": {\"field\": \"AQI\", \"title\": \"AQI (greater number is worst)\", \"type\": \"quantitative\"}}, \"selection\": {\"selector003\": {\"type\": \"interval\", \"bind\": \"scales\", \"encodings\": [\"x\", \"y\"]}}, \"title\": \"EV vs air quality\", \"$schema\": \"https://vega.github.io/schema/vega-lite/v4.17.0.json\", \"datasets\": {\"data-bf634b6ac5c9d29651ffab19ce35c57e\": [{\"County\": \"Adams\", \"AQI\": 18.0, \"Electrical Vehicles\": 35, \"Label\": \"Good\"}, {\"County\": \"Asotin\", \"AQI\": 25.0, \"Electrical Vehicles\": 52, \"Label\": \"Good\"}, {\"County\": \"Benton\", \"AQI\": 33.0, \"Electrical Vehicles\": 1567, \"Label\": \"Good\"}, {\"County\": \"Chelan\", \"AQI\": 21.5, \"Electrical Vehicles\": 732, \"Label\": \"Good\"}, {\"County\": \"Clallam\", \"AQI\": 28.0, \"Electrical Vehicles\": 779, \"Label\": \"Good\"}, {\"County\": \"Clark\", \"AQI\": 37.5, \"Electrical Vehicles\": 7398, \"Label\": \"Good\"}, {\"County\": \"Columbia\", \"AQI\": 20.0, \"Electrical Vehicles\": 13, \"Label\": \"Good\"}, {\"County\": \"Cowlitz\", \"AQI\": 15.0, \"Electrical Vehicles\": 619, \"Label\": \"Good\"}, {\"County\": \"Franklin\", \"AQI\": 24.0, \"Electrical Vehicles\": 406, \"Label\": \"Good\"}, {\"County\": \"Garfield\", \"AQI\": 16.0, \"Electrical Vehicles\": 4, \"Label\": \"Good\"}, {\"County\": \"Grant\", \"AQI\": 25.0, \"Electrical Vehicles\": 362, \"Label\": \"Good\"}, {\"County\": \"Grays Harbor\", \"AQI\": 20.0, \"Electrical Vehicles\": 450, \"Label\": \"Good\"}, {\"County\": \"Island\", \"AQI\": 10.0, \"Electrical Vehicles\": 1402, \"Label\": \"Good\"}, {\"County\": \"Jefferson\", \"AQI\": 23.0, \"Electrical Vehicles\": 763, \"Label\": \"Good\"}, {\"County\": \"King\", \"AQI\": 29.0, \"Electrical Vehicles\": 65268, \"Label\": \"Good\"}, {\"County\": \"Kitsap\", \"AQI\": 22.0, \"Electrical Vehicles\": 4148, \"Label\": \"Good\"}, {\"County\": \"Kittitas\", \"AQI\": 20.0, \"Electrical Vehicles\": 431, \"Label\": \"Good\"}, {\"County\": \"Lewis\", \"AQI\": 24.0, \"Electrical Vehicles\": 473, \"Label\": \"Good\"}, {\"County\": \"Mason\", \"AQI\": 18.0, \"Electrical Vehicles\": 595, \"Label\": \"Good\"}, {\"County\": \"Okanogan\", \"AQI\": 30.0, \"Electrical Vehicles\": 168, \"Label\": \"Good\"}, {\"County\": \"Pacific\", \"AQI\": 19.0, \"Electrical Vehicles\": 157, \"Label\": \"Good\"}, {\"County\": \"Pend Oreille\", \"AQI\": 12.0, \"Electrical Vehicles\": 40, \"Label\": \"Good\"}, {\"County\": \"Pierce\", \"AQI\": 29.0, \"Electrical Vehicles\": 9538, \"Label\": \"Good\"}, {\"County\": \"Skagit\", \"AQI\": 28.0, \"Electrical Vehicles\": 1406, \"Label\": \"Good\"}, {\"County\": \"Snohomish\", \"AQI\": 19.0, \"Electrical Vehicles\": 14061, \"Label\": \"Good\"}, {\"County\": \"Spokane\", \"AQI\": 38.5, \"Electrical Vehicles\": 3080, \"Label\": \"Good\"}, {\"County\": \"Stevens\", \"AQI\": 35.0, \"Electrical Vehicles\": 160, \"Label\": \"Good\"}, {\"County\": \"Thurston\", \"AQI\": 37.0, \"Electrical Vehicles\": 4548, \"Label\": \"Good\"}, {\"County\": \"Walla Walla\", \"AQI\": 25.5, \"Electrical Vehicles\": 330, \"Label\": \"Good\"}, {\"County\": \"Whatcom\", \"AQI\": 31.0, \"Electrical Vehicles\": 3101, \"Label\": \"Good\"}, {\"County\": \"Whitman\", \"AQI\": 24.0, \"Electrical Vehicles\": 209, \"Label\": \"Good\"}, {\"County\": \"Yakima\", \"AQI\": 32.0, \"Electrical Vehicles\": 687, \"Label\": \"Good\"}]}}, {\"mode\": \"vega-lite\"});\n",
       "</script>"
      ],
      "text/plain": [
       "alt.Chart(...)"
      ]
     },
     "execution_count": 22,
     "metadata": {},
     "output_type": "execute_result"
    }
   ],
   "source": [
    "chart = (alt.Chart(ev_aqi, title=\"EV vs air quality\")\n",
    "    .mark_point()\n",
    "    .encode(\n",
    "        alt.X(\"Electrical Vehicles:Q\", title=\"Number of EVs\", scale=alt.Scale(type=\"log\")),\n",
    "        alt.Y(\"AQI:Q\", title=\"AQI (greater number is worst)\"),\n",
    "        alt.Tooltip(\"County:N\"),\n",
    "        alt.Color(\"County\", scale=alt.Scale(scheme='spectral'), legend=None)\n",
    "    )\n",
    "    .interactive())\n",
    "chart"
   ]
  },
  {
   "cell_type": "markdown",
   "id": "436d1a1e-b307-4535-ba8e-b22b08335a33",
   "metadata": {},
   "source": [
    "This chart shows that there is a trend of major number of EV in places where the air quality is worst."
   ]
  },
  {
   "cell_type": "markdown",
   "id": "a0c12732-aa95-4555-93d8-7d102e367a0a",
   "metadata": {},
   "source": [
    "### Main Visualization"
   ]
  },
  {
   "cell_type": "code",
   "execution_count": 20,
   "id": "014f2c8a-a322-4896-b9ce-d2bfaaf078e6",
   "metadata": {
    "tags": []
   },
   "outputs": [
    {
     "data": {
      "text/html": [
       "<div>\n",
       "<style scoped>\n",
       "    .dataframe tbody tr th:only-of-type {\n",
       "        vertical-align: middle;\n",
       "    }\n",
       "\n",
       "    .dataframe tbody tr th {\n",
       "        vertical-align: top;\n",
       "    }\n",
       "\n",
       "    .dataframe thead th {\n",
       "        text-align: right;\n",
       "    }\n",
       "</style>\n",
       "<table border=\"1\" class=\"dataframe\">\n",
       "  <thead>\n",
       "    <tr style=\"text-align: right;\">\n",
       "      <th></th>\n",
       "      <th>County</th>\n",
       "      <th>Population 2022</th>\n",
       "      <th>Electrical Vehicles</th>\n",
       "      <th>EV_Pop_1K</th>\n",
       "      <th>AQI</th>\n",
       "      <th>Label</th>\n",
       "      <th>size</th>\n",
       "    </tr>\n",
       "  </thead>\n",
       "  <tbody>\n",
       "    <tr>\n",
       "      <th>0</th>\n",
       "      <td>Jefferson</td>\n",
       "      <td>10290</td>\n",
       "      <td>763.0</td>\n",
       "      <td>74.0</td>\n",
       "      <td>23.0</td>\n",
       "      <td>Good</td>\n",
       "      <td>0.074</td>\n",
       "    </tr>\n",
       "    <tr>\n",
       "      <th>1</th>\n",
       "      <td>Mason</td>\n",
       "      <td>10430</td>\n",
       "      <td>595.0</td>\n",
       "      <td>57.0</td>\n",
       "      <td>18.0</td>\n",
       "      <td>Good</td>\n",
       "      <td>0.057</td>\n",
       "    </tr>\n",
       "    <tr>\n",
       "      <th>2</th>\n",
       "      <td>Island</td>\n",
       "      <td>27880</td>\n",
       "      <td>1402.0</td>\n",
       "      <td>50.0</td>\n",
       "      <td>10.0</td>\n",
       "      <td>Good</td>\n",
       "      <td>0.050</td>\n",
       "    </tr>\n",
       "    <tr>\n",
       "      <th>3</th>\n",
       "      <td>Kitsap</td>\n",
       "      <td>98860</td>\n",
       "      <td>4148.0</td>\n",
       "      <td>42.0</td>\n",
       "      <td>22.0</td>\n",
       "      <td>Good</td>\n",
       "      <td>0.042</td>\n",
       "    </tr>\n",
       "    <tr>\n",
       "      <th>4</th>\n",
       "      <td>King</td>\n",
       "      <td>1939870</td>\n",
       "      <td>65268.0</td>\n",
       "      <td>34.0</td>\n",
       "      <td>29.0</td>\n",
       "      <td>Good</td>\n",
       "      <td>0.034</td>\n",
       "    </tr>\n",
       "  </tbody>\n",
       "</table>\n",
       "</div>"
      ],
      "text/plain": [
       "      County  Population 2022  Electrical Vehicles  EV_Pop_1K   AQI Label  \\\n",
       "0  Jefferson            10290                763.0       74.0  23.0  Good   \n",
       "1      Mason            10430                595.0       57.0  18.0  Good   \n",
       "2     Island            27880               1402.0       50.0  10.0  Good   \n",
       "3     Kitsap            98860               4148.0       42.0  22.0  Good   \n",
       "4       King          1939870              65268.0       34.0  29.0  Good   \n",
       "\n",
       "    size  \n",
       "0  0.074  \n",
       "1  0.057  \n",
       "2  0.050  \n",
       "3  0.042  \n",
       "4  0.034  "
      ]
     },
     "execution_count": 20,
     "metadata": {},
     "output_type": "execute_result"
    }
   ],
   "source": [
    "df = ev_pop.merge(ev_aqi.drop(columns=\"Electrical Vehicles\"), on=\"County\").sort_values('EV_Pop_1K', ascending=False)\n",
    "df['size'] = df['EV_Pop_1K'] / 1000\n",
    "df.head()"
   ]
  },
  {
   "cell_type": "code",
   "execution_count": 21,
   "id": "611ef21f-a9c8-4509-ba7b-ebd800fd5e55",
   "metadata": {
    "tags": []
   },
   "outputs": [
    {
     "data": {
      "text/html": [
       "\n",
       "<div id=\"altair-viz-d5bb4d583bb14fe5a9307ef9d7b200e1\"></div>\n",
       "<script type=\"text/javascript\">\n",
       "  var VEGA_DEBUG = (typeof VEGA_DEBUG == \"undefined\") ? {} : VEGA_DEBUG;\n",
       "  (function(spec, embedOpt){\n",
       "    let outputDiv = document.currentScript.previousElementSibling;\n",
       "    if (outputDiv.id !== \"altair-viz-d5bb4d583bb14fe5a9307ef9d7b200e1\") {\n",
       "      outputDiv = document.getElementById(\"altair-viz-d5bb4d583bb14fe5a9307ef9d7b200e1\");\n",
       "    }\n",
       "    const paths = {\n",
       "      \"vega\": \"https://cdn.jsdelivr.net/npm//vega@5?noext\",\n",
       "      \"vega-lib\": \"https://cdn.jsdelivr.net/npm//vega-lib?noext\",\n",
       "      \"vega-lite\": \"https://cdn.jsdelivr.net/npm//vega-lite@4.17.0?noext\",\n",
       "      \"vega-embed\": \"https://cdn.jsdelivr.net/npm//vega-embed@6?noext\",\n",
       "    };\n",
       "\n",
       "    function maybeLoadScript(lib, version) {\n",
       "      var key = `${lib.replace(\"-\", \"\")}_version`;\n",
       "      return (VEGA_DEBUG[key] == version) ?\n",
       "        Promise.resolve(paths[lib]) :\n",
       "        new Promise(function(resolve, reject) {\n",
       "          var s = document.createElement('script');\n",
       "          document.getElementsByTagName(\"head\")[0].appendChild(s);\n",
       "          s.async = true;\n",
       "          s.onload = () => {\n",
       "            VEGA_DEBUG[key] = version;\n",
       "            return resolve(paths[lib]);\n",
       "          };\n",
       "          s.onerror = () => reject(`Error loading script: ${paths[lib]}`);\n",
       "          s.src = paths[lib];\n",
       "        });\n",
       "    }\n",
       "\n",
       "    function showError(err) {\n",
       "      outputDiv.innerHTML = `<div class=\"error\" style=\"color:red;\">${err}</div>`;\n",
       "      throw err;\n",
       "    }\n",
       "\n",
       "    function displayChart(vegaEmbed) {\n",
       "      vegaEmbed(outputDiv, spec, embedOpt)\n",
       "        .catch(err => showError(`Javascript Error: ${err.message}<br>This usually means there's a typo in your chart specification. See the javascript console for the full traceback.`));\n",
       "    }\n",
       "\n",
       "    if(typeof define === \"function\" && define.amd) {\n",
       "      requirejs.config({paths});\n",
       "      require([\"vega-embed\"], displayChart, err => showError(`Error loading script: ${err.message}`));\n",
       "    } else {\n",
       "      maybeLoadScript(\"vega\", \"5\")\n",
       "        .then(() => maybeLoadScript(\"vega-lite\", \"4.17.0\"))\n",
       "        .then(() => maybeLoadScript(\"vega-embed\", \"6\"))\n",
       "        .catch(showError)\n",
       "        .then(() => displayChart(vegaEmbed));\n",
       "    }\n",
       "  })({\"config\": {\"view\": {\"continuousWidth\": 400, \"continuousHeight\": 300}}, \"hconcat\": [{\"mark\": {\"type\": \"bar\", \"tooltip\": true}, \"encoding\": {\"color\": {\"field\": \"County\", \"type\": \"nominal\"}, \"x\": {\"field\": \"County\", \"sort\": \"-y\", \"type\": \"nominal\"}, \"y\": {\"field\": \"EV_Pop_1K\", \"title\": \"EV by 1,000 inhabitants\", \"type\": \"quantitative\"}}, \"height\": 400, \"selection\": {\"selector002\": {\"type\": \"multi\", \"fields\": [\"County\"]}}, \"title\": \"EVs by 1,000 inhabitants\", \"width\": 300}, {\"mark\": {\"type\": \"point\", \"tooltip\": true}, \"encoding\": {\"color\": {\"field\": \"County\", \"legend\": null, \"type\": \"nominal\"}, \"fill\": {\"field\": \"County\", \"legend\": null, \"type\": \"nominal\"}, \"size\": {\"field\": \"size\", \"title\": \"Proportion EV/1,000 inhab\", \"type\": \"quantitative\"}, \"tooltip\": {\"field\": \"County\", \"type\": \"nominal\"}, \"x\": {\"field\": \"Electrical Vehicles\", \"scale\": {\"type\": \"log\"}, \"title\": \"Number of EVs\", \"type\": \"quantitative\"}, \"y\": {\"field\": \"AQI\", \"title\": \"AQI (greater number is worst)\", \"type\": \"quantitative\"}}, \"height\": 400, \"title\": \"EVs vs Air Quality\", \"transform\": [{\"filter\": {\"selection\": \"selector002\"}}], \"width\": 300}], \"data\": {\"name\": \"data-b01b0ac2acb3376ca1a94f3e477089ba\"}, \"$schema\": \"https://vega.github.io/schema/vega-lite/v4.17.0.json\", \"datasets\": {\"data-b01b0ac2acb3376ca1a94f3e477089ba\": [{\"County\": \"Jefferson\", \"Population 2022\": 10290, \"Electrical Vehicles\": 763.0, \"EV_Pop_1K\": 74.0, \"AQI\": 23.0, \"Label\": \"Good\", \"size\": 0.074}, {\"County\": \"Mason\", \"Population 2022\": 10430, \"Electrical Vehicles\": 595.0, \"EV_Pop_1K\": 57.0, \"AQI\": 18.0, \"Label\": \"Good\", \"size\": 0.057}, {\"County\": \"Island\", \"Population 2022\": 27880, \"Electrical Vehicles\": 1402.0, \"EV_Pop_1K\": 50.0, \"AQI\": 10.0, \"Label\": \"Good\", \"size\": 0.05}, {\"County\": \"Kitsap\", \"Population 2022\": 98860, \"Electrical Vehicles\": 4148.0, \"EV_Pop_1K\": 42.0, \"AQI\": 22.0, \"Label\": \"Good\", \"size\": 0.042}, {\"County\": \"King\", \"Population 2022\": 1939870, \"Electrical Vehicles\": 65268.0, \"EV_Pop_1K\": 34.0, \"AQI\": 29.0, \"Label\": \"Good\", \"size\": 0.034}, {\"County\": \"Snohomish\", \"Population 2022\": 455655, \"Electrical Vehicles\": 14061.0, \"EV_Pop_1K\": 31.0, \"AQI\": 19.0, \"Label\": \"Good\", \"size\": 0.031}, {\"County\": \"Thurston\", \"Population 2022\": 156740, \"Electrical Vehicles\": 4548.0, \"EV_Pop_1K\": 29.0, \"AQI\": 37.0, \"Label\": \"Good\", \"size\": 0.029}, {\"County\": \"Clark\", \"Population 2022\": 283165, \"Electrical Vehicles\": 7398.0, \"EV_Pop_1K\": 26.0, \"AQI\": 37.5, \"Label\": \"Good\", \"size\": 0.026}, {\"County\": \"Clallam\", \"Population 2022\": 31775, \"Electrical Vehicles\": 779.0, \"EV_Pop_1K\": 25.0, \"AQI\": 28.0, \"Label\": \"Good\", \"size\": 0.025}, {\"County\": \"Whatcom\", \"Population 2022\": 138520, \"Electrical Vehicles\": 3101.0, \"EV_Pop_1K\": 22.0, \"AQI\": 31.0, \"Label\": \"Good\", \"size\": 0.022}, {\"County\": \"Pacific\", \"Population 2022\": 7640, \"Electrical Vehicles\": 157.0, \"EV_Pop_1K\": 21.0, \"AQI\": 19.0, \"Label\": \"Good\", \"size\": 0.021}, {\"County\": \"Pierce\", \"Population 2022\": 479435, \"Electrical Vehicles\": 9538.0, \"EV_Pop_1K\": 20.0, \"AQI\": 29.0, \"Label\": \"Good\", \"size\": 0.02}, {\"County\": \"Skagit\", \"Population 2022\": 78280, \"Electrical Vehicles\": 1406.0, \"EV_Pop_1K\": 18.0, \"AQI\": 28.0, \"Label\": \"Good\", \"size\": 0.018}, {\"County\": \"Kittitas\", \"Population 2022\": 26155, \"Electrical Vehicles\": 431.0, \"EV_Pop_1K\": 16.0, \"AQI\": 20.0, \"Label\": \"Good\", \"size\": 0.016}, {\"County\": \"Stevens\", \"Population 2022\": 9878, \"Electrical Vehicles\": 160.0, \"EV_Pop_1K\": 16.0, \"AQI\": 35.0, \"Label\": \"Good\", \"size\": 0.016}, {\"County\": \"Chelan\", \"Population 2022\": 47190, \"Electrical Vehicles\": 732.0, \"EV_Pop_1K\": 16.0, \"AQI\": 21.5, \"Label\": \"Good\", \"size\": 0.016}, {\"County\": \"Lewis\", \"Population 2022\": 33215, \"Electrical Vehicles\": 473.0, \"EV_Pop_1K\": 14.0, \"AQI\": 24.0, \"Label\": \"Good\", \"size\": 0.014}, {\"County\": \"Pend Oreille\", \"Population 2022\": 3145, \"Electrical Vehicles\": 40.0, \"EV_Pop_1K\": 13.0, \"AQI\": 12.0, \"Label\": \"Good\", \"size\": 0.013}, {\"County\": \"Cowlitz\", \"Population 2022\": 56010, \"Electrical Vehicles\": 619.0, \"EV_Pop_1K\": 11.0, \"AQI\": 15.0, \"Label\": \"Good\", \"size\": 0.011}, {\"County\": \"Okanogan\", \"Population 2022\": 15365, \"Electrical Vehicles\": 168.0, \"EV_Pop_1K\": 11.0, \"AQI\": 30.0, \"Label\": \"Good\", \"size\": 0.011}, {\"County\": \"Grays Harbor\", \"Population 2022\": 47275, \"Electrical Vehicles\": 450.0, \"EV_Pop_1K\": 10.0, \"AQI\": 20.0, \"Label\": \"Good\", \"size\": 0.01}, {\"County\": \"Benton\", \"Population 2022\": 174855, \"Electrical Vehicles\": 1567.0, \"EV_Pop_1K\": 9.0, \"AQI\": 33.0, \"Label\": \"Good\", \"size\": 0.009}, {\"County\": \"Spokane\", \"Population 2022\": 387985, \"Electrical Vehicles\": 3080.0, \"EV_Pop_1K\": 8.0, \"AQI\": 38.5, \"Label\": \"Good\", \"size\": 0.008}, {\"County\": \"Walla Walla\", \"Population 2022\": 45425, \"Electrical Vehicles\": 330.0, \"EV_Pop_1K\": 7.0, \"AQI\": 25.5, \"Label\": \"Good\", \"size\": 0.007}, {\"County\": \"Grant\", \"Population 2022\": 55940, \"Electrical Vehicles\": 362.0, \"EV_Pop_1K\": 6.0, \"AQI\": 25.0, \"Label\": \"Good\", \"size\": 0.006}, {\"County\": \"Asotin\", \"Population 2022\": 8435, \"Electrical Vehicles\": 52.0, \"EV_Pop_1K\": 6.0, \"AQI\": 25.0, \"Label\": \"Good\", \"size\": 0.006}, {\"County\": \"Columbia\", \"Population 2022\": 2565, \"Electrical Vehicles\": 13.0, \"EV_Pop_1K\": 5.0, \"AQI\": 20.0, \"Label\": \"Good\", \"size\": 0.005}, {\"County\": \"Whitman\", \"Population 2022\": 41880, \"Electrical Vehicles\": 209.0, \"EV_Pop_1K\": 5.0, \"AQI\": 24.0, \"Label\": \"Good\", \"size\": 0.005}, {\"County\": \"Franklin\", \"Population 2022\": 85555, \"Electrical Vehicles\": 406.0, \"EV_Pop_1K\": 5.0, \"AQI\": 24.0, \"Label\": \"Good\", \"size\": 0.005}, {\"County\": \"Yakima\", \"Population 2022\": 170995, \"Electrical Vehicles\": 687.0, \"EV_Pop_1K\": 4.0, \"AQI\": 32.0, \"Label\": \"Good\", \"size\": 0.004}, {\"County\": \"Adams\", \"Population 2022\": 11525, \"Electrical Vehicles\": 35.0, \"EV_Pop_1K\": 3.0, \"AQI\": 18.0, \"Label\": \"Good\", \"size\": 0.003}, {\"County\": \"Garfield\", \"Population 2022\": 1395, \"Electrical Vehicles\": 4.0, \"EV_Pop_1K\": 3.0, \"AQI\": 16.0, \"Label\": \"Good\", \"size\": 0.003}]}}, {\"mode\": \"vega-lite\"});\n",
       "</script>"
      ],
      "text/plain": [
       "alt.HConcatChart(...)"
      ]
     },
     "execution_count": 21,
     "metadata": {},
     "output_type": "execute_result"
    }
   ],
   "source": [
    "selection = alt.selection(type='multi', fields=['County'])\n",
    "\n",
    "pop_chart = (alt.Chart(df, title=\"EVs by 1,000 inhabitants\")\n",
    "    .properties(width=300, height=400)\n",
    "    .mark_bar(\n",
    "        tooltip=True,\n",
    "    )\n",
    "    .encode(\n",
    "        alt.X('County:N', sort=\"-y\"),\n",
    "        alt.Y('EV_Pop_1K:Q', title=\"EV by 1,000 inhabitants\"),\n",
    "        color='County:N'\n",
    "    )).add_selection(selection)\n",
    "\n",
    "aqi_pop = (alt.Chart(df, title=\"EVs vs Air Quality\")\n",
    "    .properties(width=300, height=400)\n",
    "    .mark_point(\n",
    "        tooltip=True\n",
    "    )\n",
    "    .encode(\n",
    "        alt.X(\"Electrical Vehicles:Q\", title=\"Number of EVs\", scale=alt.Scale(type=\"log\")),\n",
    "        alt.Y(\"AQI:Q\", title=\"AQI (greater number is worst)\"),\n",
    "        alt.Tooltip(\"County:N\"),\n",
    "        size=alt.Size('size:Q', title=\"Proportion EV/1,000 inhab\"),\n",
    "        color=alt.Color('County:N', legend=None),\n",
    "        fill=alt.Fill('County:N', legend=None)\n",
    "    )).transform_filter(selection)\n",
    "\n",
    "chart = pop_chart | aqi_pop\n",
    "\n",
    "chart"
   ]
  },
  {
   "cell_type": "markdown",
   "id": "93eefa21-6cf3-4156-9962-25842d7ad3ff",
   "metadata": {},
   "source": [
    "### Summary"
   ]
  },
  {
   "cell_type": "markdown",
   "id": "2c3142b7-3c0a-40a5-8ad7-fe27ddfdeccb",
   "metadata": {},
   "source": [
    "Here, considerations related to the visualization design:\n",
    "    \n",
    "* The visualization has two sections. The first one is a bar chart (Chart I) where number of EVs by population are show by county in descendant order. The second one (Chart II) is a scatter plot that shows the relationship between the number of EVs and levels of air quality by county. The last chart also represents the proportion of EVs by population as the size of each point. In both plots, every county is shown in a different color.\n",
    "* Chart I is a direct comparison by counties, to demonstrate in which counties the adoption of EVs is higher on one side, and on the other, in which counties that adoption is lower.\n",
    "* Chart II includes multiple dimensions and requires a technical explanation about what AQI index represents and how air quality levels should be interpreted. A logarithmic scale is used to represent the number of EVs.\n",
    "* As interactivity, a county can be selected in Chart I, filtering the result to Chart II. In that way, a more focused analysis can be realized by every county."
   ]
  },
  {
   "cell_type": "markdown",
   "id": "19141b06-50c0-4987-b7ba-a11005b2ca15",
   "metadata": {},
   "source": [
    "## Discussion\n",
    "\n",
    "The main visualization was presented to three, neither domain experts nor visualization experts. They were asked about their interpretation of the main visualization. In summary, their responses were:\n",
    "\n",
    "* Chart I is easy to interpret. In Jefferson County, there are more than 70 EVs by every 1,000 inhabitants. Colors help to differentiate every county, so it's easy to see in what counties there are a greater density of EVs related to population.\n",
    "* Related to Chart 2, users ask how air quality is measure. There was some confusion because AQI scale is inverted, i.e. lower values mean a better air quality and higher values mean the worst air quality. After a short explanation about AQI indices, users don't found problem on interpreting the chart. It was noted that there is a trend in which counties with worst air quality have a greater density of EVs related to people living there.\n",
    "* The functionality of choosing a county in Chart I and selecting that point in Chart II was positively valued in the sense it helps to characterize the situation for a selected county.\n",
    "\n",
    "In general, users agree that this visualization is an improvement related to visualizations published by Washington State Department of Licensing, because they let make relationship between key variables related about the problem of GHG emissions and how the transition to EVs is occurring."
   ]
  },
  {
   "cell_type": "markdown",
   "id": "ef1bee1e-983d-431d-8108-dbb928f0ecd6",
   "metadata": {},
   "source": [
    "## Insight\n",
    "\n",
    "This project shows how visualizations can help to represent a problematic aspect of reality and actions taken to improve the situation. In this case, the transition to EVs is an effort in which multiple stakeholders, like government bodies, private sector, and car owners, are taking part. Visualizations helps to identify patterns or trends, compare variables, and communicate insights. All this can contribute to identify intervention areas where policies and behaviors can be more effective. In this case, the visualization helps to compare the state of to-EVs transition among counties. It can be used to identify what actions are taking place in some counties that can help in others to accelerate the EVs transition. Overall, that can contribute to raise more public concern about GHG emissions and measure to reduce them."
   ]
  }
 ],
 "metadata": {
  "kernelspec": {
   "display_name": "Python 3 (ipykernel)",
   "language": "python",
   "name": "python3"
  },
  "language_info": {
   "codemirror_mode": {
    "name": "ipython",
    "version": 3
   },
   "file_extension": ".py",
   "mimetype": "text/x-python",
   "name": "python",
   "nbconvert_exporter": "python",
   "pygments_lexer": "ipython3",
   "version": "3.9.12"
  },
  "widgets": {
   "application/vnd.jupyter.widget-state+json": {
    "state": {},
    "version_major": 2,
    "version_minor": 0
   }
  }
 },
 "nbformat": 4,
 "nbformat_minor": 5
}
